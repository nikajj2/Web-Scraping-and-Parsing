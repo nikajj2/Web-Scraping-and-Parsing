{
  "nbformat": 4,
  "nbformat_minor": 0,
  "metadata": {
    "colab": {
      "provenance": []
    },
    "kernelspec": {
      "name": "python3",
      "display_name": "Python 3"
    },
    "language_info": {
      "name": "python"
    }
  },
  "cells": [
    {
      "cell_type": "markdown",
      "source": [
        "Web Scraping and Parsing\n",
        "\n"
      ],
      "metadata": {
        "id": "QDdy3qZuv3cB"
      }
    },
    {
      "cell_type": "markdown",
      "source": [
        "## Step 1  - Download and Parse Data\n",
        "The **`retrieveRecords`** method is a public method  of the **`SISrapper`** class. It works as a generator that sequentially returns all the records (of tag **`div`** and class **`record`**) on the result as a `BeautifulSoup`'s [`Tag`](https://www.crummy.com/software/BeautifulSoup/bs4/doc/#tag). This method jumps seamlessly  to next page when reaching the end of the current page, and only exits when there is no more result.\n"
      ],
      "metadata": {
        "id": "gu-rYJ9VwmMD"
      }
    },
    {
      "cell_type": "code",
      "source": [
        "import requests\n",
        "from bs4 import BeautifulSoup\n",
        "class SIScraper():\n",
        "\n",
        "    def __init__(self):\n",
        "        self.session = requests.Session()\n",
        "        self.prefix = ''\n",
        "\n",
        "\n",
        "    def retrieveRecords(self, url: str):\n",
        "      self.url=url\n",
        "      self.prefix = url[:url.find('?')]\n",
        "      records=[]\n",
        "\n",
        "      for soup1 in self.getPages():\n",
        "        #for div in soup1.find_all('h2'):\n",
        "          #records.append(div)\n",
        "        for div in soup1.find_all('div', {'class': 'span10'}):\n",
        "          if(div.find('h2')):\n",
        "            records.append(div)\n",
        "      return records\n",
        "\n",
        "\n",
        "    def getPages(self):\n",
        "\n",
        "      while self.url:\n",
        "          page = self.session.get(self.url)\n",
        "          soup = BeautifulSoup(page.content)\n",
        "          yield soup\n",
        "          self.url = self.nextUrl(soup)\n",
        "    def nextUrl(self, soup):\n",
        "        for a in soup.select('div.pagination a'):\n",
        "            if a.text.strip()=='next':\n",
        "                return f'{self.prefix}{a[\"href\"]}'\n",
        "        return None\n"
      ],
      "metadata": {
        "id": "H1zSDjnlYht9"
      },
      "execution_count": 2,
      "outputs": []
    },
    {
      "cell_type": "markdown",
      "source": [
        "### Testing the class\n"
      ],
      "metadata": {
        "id": "n5_9G7RGr96i"
      }
    },
    {
      "cell_type": "code",
      "source": [
        "\n",
        "URL = 'https://collections.si.edu/search/results.htm?date.slider=&q=&dsort=&fq=object_type%3A%22Outdoor+sculpture%22&fq=data_source%3A%22Art+Inventories+Catalog%2C+Smithsonian+American+Art+Museum%22&fq=date:%221400s%22'\n",
        "scraper = SIScraper()\n",
        "records = scraper.retrieveRecords(URL)\n",
        "for i,record in enumerate(records, 1):\n",
        "    print(i, record.find('h2').text)"
      ],
      "metadata": {
        "colab": {
          "base_uri": "https://localhost:8080/"
        },
        "id": "ljaYqF5V9QbM",
        "outputId": "17e64827-a18e-4a0d-ab7f-3c1d0ff38679"
      },
      "execution_count": 3,
      "outputs": [
        {
          "output_type": "stream",
          "name": "stdout",
          "text": [
            "1 Old Testament Children's Doors, (sculpture)\n",
            "2 Marble Well Head, (sculpture)\n",
            "3 The Well of Samaria, (sculpture)\n",
            "4 Joan of Arc, (sculpture)\n",
            "5 Normanno Wedge #1, (sculpture)\n",
            "6 Marble Well Head, (sculpture)\n",
            "7 Well Head, (sculpture)\n",
            "8 Font, (sculpture)\n",
            "9 Department of Justice Building: Viking Ships Relief, (sculpture)\n",
            "10 The Apotheosis of St. Louis, (sculpture)\n",
            "11 Jupiter, (sculpture)\n",
            "12 Italia, (sculpture)\n",
            "13 Joan of Arc, Maiden of Orleans, (sculpture)\n",
            "14 Recumbent Stone Camels, (sculpture)\n",
            "15 Well Head, (sculpture)\n",
            "16 Spheres (2), (sculpture)\n",
            "17 Aphrodite Fountain, (sculpture)\n",
            "18 St. Joan of Arc, (sculpture)\n",
            "19 Jeanne d'Arc, (sculpture)\n",
            "20 Marble Column with Associated Well Head, (sculpture)\n",
            "21 Venus, (sculpture)\n",
            "22 Diana, (sculpture)\n",
            "23 Joan of Arc, (sculpture)\n",
            "24 Stone Well Head, (sculpture)\n",
            "25 Apollo, (sculpture)\n",
            "26 (Two Medieval Knights), (sculpture)\n",
            "27 Stone Font, (sculpture)\n",
            "28 Joan of Arc-Equestrian, (sculpture)\n",
            "29 Young Meher, (sculpture)\n",
            "30 The Crusader: Victor Lawson Monument, (sculpture)\n"
          ]
        }
      ]
    },
    {
      "cell_type": "markdown",
      "source": [
        "## Step 2 - Extract Record into JSON\n",
        "\n",
        " **`toJson`** method transforms each record Tag returned by **`retrieveRecords`** in step 1 to a JSON string. The JSON object has the following keys (and their corresponding values).\n",
        "\n",
        ""
      ],
      "metadata": {
        "id": "K8ZIpU4BxT1h"
      }
    },
    {
      "cell_type": "code",
      "source": [
        "class SIScraperJson(SIScraper):\n",
        "\n",
        "    ### DO NOT CHANGE OR EDIT THIS METHOD\n",
        "    def retrieveRecordsAsJson(self, url):\n",
        "        yield from map(self.toJson, self.retrieveRecords(url))\n",
        "\n",
        "    ### You must complete the following method that takes\n",
        "    ### record of type bs4.Tag (from Task 1), and return a string\n",
        "    def toJson(self, record):\n",
        "      for span_tag in record.findAll('span'):\n",
        "        span_tag.replace_with('')\n",
        "      d={}\n",
        "      d[\"Label\"]=record.find('h2').text\n",
        "      for i in record.find_all('dl'):\n",
        "        if(i.find('dt').text.strip()!=\"Title:\"):\n",
        "          list1=[]\n",
        "          for j in i.find_all('dd'):\n",
        "            list1.append(j.text.strip())\n",
        "            d[i.find('dt').text.strip()]=list1\n",
        "\n",
        "      return d\n",
        ""
      ],
      "metadata": {
        "id": "ZltzCx6rSZXQ"
      },
      "execution_count": 4,
      "outputs": []
    },
    {
      "cell_type": "markdown",
      "source": [
        "### Testing the class"
      ],
      "metadata": {
        "id": "IMve6qPYS1DK"
      }
    },
    {
      "cell_type": "code",
      "source": [
        "### MUST RUN AS-IS FROM BELOW WITHOUT ANY EDITS\n",
        "URL = 'https://collections.si.edu/search/results.htm?date.slider=&q=&dsort=&fq=object_type%3A%22Outdoor+sculpture%22&fq=data_source%3A%22Art+Inventories+Catalog%2C+Smithsonian+American+Art+Museum%22&fq=date:%221400s%22'\n",
        "scraper = SIScraperJson()\n",
        "records = scraper.retrieveRecordsAsJson(URL)\n",
        "\n",
        "\n",
        "print('\\n>> The FIRST record')\n",
        "display(next(records))\n",
        "\n",
        "print('\\n>> The LAST record')\n",
        "display(max(enumerate(records))[1])"
      ],
      "metadata": {
        "colab": {
          "base_uri": "https://localhost:8080/",
          "height": 862
        },
        "id": "p_TPDZyQ8T4E",
        "outputId": "0a934d8c-effd-42c1-8790-80be7efbab9e"
      },
      "execution_count": 5,
      "outputs": [
        {
          "output_type": "stream",
          "name": "stdout",
          "text": [
            "\n",
            ">> The FIRST record\n"
          ]
        },
        {
          "output_type": "display_data",
          "data": {
            "text/plain": [
              "{'Label': \"Old Testament Children's Doors, (sculpture)\",\n",
              " 'Sculptor:': ['Moore, Bruce 1905-1980'],\n",
              " 'Architect:': ['Fox, William B.'],\n",
              " 'Founder:': ['Modern Art Foundry', 'Associated Ironworkers'],\n",
              " 'Medium:': ['Bronze'],\n",
              " 'Culture:': ['French'],\n",
              " 'Type:': ['Sculptures-Outdoor Sculpture', 'Sculptures-Door', 'Sculptures'],\n",
              " 'Owner/Location:': ['Administered by Episcopal Diocese of California 1051 Taylor Street San Francisco California 94108',\n",
              "  'Located Grace Cathedral Taylor & California Streets Entrance to south tower San Francisco California'],\n",
              " 'Date:': ['1964'],\n",
              " 'Topic:': ['Religion--Old Testament--Joseph',\n",
              "  'Religion--Old Testament--Moses',\n",
              "  'Religion--Old Testament--Samuel',\n",
              "  'Religion--Old Testament--David',\n",
              "  'Religion--Old Testament--Goliath',\n",
              "  'Religion--Old Testament--Eli',\n",
              "  'Allegory--Arts & Sciences--Industry',\n",
              "  'Allegory--Quality--Fortitude',\n",
              "  'Religion--Saint--St. Joan of Arc',\n",
              "  'Occupation--Military--Commander',\n",
              "  'Ethnic',\n",
              "  'History--Medieval--France'],\n",
              " 'Control number:': ['IAS CA000992'],\n",
              " 'Data Source:': ['Art Inventories Catalog, Smithsonian American Art Museums'],\n",
              " 'EDAN-URL:': ['edanmdm:siris_ari_331668']}"
            ]
          },
          "metadata": {}
        },
        {
          "output_type": "stream",
          "name": "stdout",
          "text": [
            "\n",
            ">> The LAST record\n"
          ]
        },
        {
          "output_type": "display_data",
          "data": {
            "text/plain": [
              "{'Label': 'The Crusader: Victor Lawson Monument, (sculpture)',\n",
              " 'Sculptor:': ['Taft, Lorado Zadoc 1860-1936'],\n",
              " 'Medium:': ['Sculpture: granite; Base: granite'],\n",
              " 'Type:': ['Sculptures-Gravestone',\n",
              "  'Sculptures-Outdoor Sculpture',\n",
              "  'Sculptures'],\n",
              " 'Owner/Location:': ['Graceland Cemetery 4001 North Clark Street Chicago Illinois 60613'],\n",
              " 'Date:': ['1931'],\n",
              " 'Topic:': ['Figure male',\n",
              "  'Occupation--Military--Knight',\n",
              "  'History--Medieval',\n",
              "  'Object--Weapon--Sword',\n",
              "  'Dress--Accessory--Shield',\n",
              "  'Dress--Historic--Medieval Dress',\n",
              "  'Homage--Lawson, Victor Fremont'],\n",
              " 'Control number:': ['IAS 87580154'],\n",
              " 'Data Source:': ['Art Inventories Catalog, Smithsonian American Art Museums'],\n",
              " 'EDAN-URL:': ['edanmdm:siris_ari_296284']}"
            ]
          },
          "metadata": {}
        }
      ]
    }
  ]
}